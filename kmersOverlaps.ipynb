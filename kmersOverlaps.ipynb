{
 "cells": [
  {
   "cell_type": "markdown",
   "metadata": {},
   "source": [
    "## Useful functions for DNA Assembly\n",
    "1. k-mers contruction\n",
    "2. Overlap (suffix-prefix) \n",
    "3. Overlap ALL "
   ]
  },
  {
   "cell_type": "markdown",
   "metadata": {},
   "source": [
    "### 1.- *k-mer* is a subsequence of length *k* useful to build index for DNA assembly methods such as de Bruijn graphs "
   ]
  },
  {
   "cell_type": "code",
   "execution_count": 57,
   "metadata": {},
   "outputs": [],
   "source": [
    "\n",
    "def kmers(reads,k):\n",
    "    kmers={}\n",
    "    j=-1\n",
    "    for read in reads:\n",
    "        j+=1\n",
    "        for i in range(len(read)-k+1):\n",
    "            kmer=read[i:i+k]\n",
    "            if not kmer in kmers:\n",
    "                kmers[kmer]=[j]\n",
    "            else:\n",
    "                kmers[kmer].append(j)\n",
    "\n",
    "    return kmers\n",
    "\n",
    "#kmers(reads,4)\n",
    "#overlap(kmers,reads,min_length=3)"
   ]
  },
  {
   "cell_type": "markdown",
   "metadata": {},
   "source": [
    "*k-mer* example"
   ]
  },
  {
   "cell_type": "code",
   "execution_count": 28,
   "metadata": {},
   "outputs": [
    {
     "data": {
      "text/plain": [
       "{'CGTAC': [0, 4],\n",
       " 'GTACG': [0, 3, 5],\n",
       " 'TACGT': [1, 3],\n",
       " 'ACGTA': [1, 4],\n",
       " 'TTTAA': [2],\n",
       " 'TTAAA': [2],\n",
       " 'TACGA': [5, 6],\n",
       " 'ACGAT': [6]}"
      ]
     },
     "execution_count": 28,
     "metadata": {},
     "output_type": "execute_result"
    }
   ],
   "source": [
    "reads = ['CGTACG', 'TACGTA','TTTAAA', 'GTACGT', 'ACGTAC', 'GTACGA', 'TACGAT']\n",
    "kmers4 = kmers(reads,5)\n",
    "kmers4\n",
    "#reads = ['ABCDEFG', 'EFGHIJ', 'HIJABC']\n",
    "#naive_overlap_map(reads,5)"
   ]
  },
  {
   "cell_type": "markdown",
   "metadata": {},
   "source": [
    "### 2. **Overlap** function return the length of the longest suffix of *a* matching a prefix of *b*"
   ]
  },
  {
   "cell_type": "code",
   "execution_count": 42,
   "metadata": {},
   "outputs": [],
   "source": [
    "def overlap(a, b, min_length=3):\n",
    "    \"\"\" Return length of longest suffix of 'a' matching\n",
    "        a prefix of 'b' that is at least 'min_length'\n",
    "        characters long.  If no such overlap exists,\n",
    "        return 0. \"\"\"\n",
    "    start = 0  # start all the way at the left\n",
    "    while True:\n",
    "        start = a.find(b[:min_length], start)  # look for b's prefix in a\n",
    "        if start == -1:  # no more occurrences to right\n",
    "            return 0\n",
    "        # found occurrence; check for full suffix/prefix match\n",
    "        if b.startswith(a[start:]):\n",
    "            return len(a)-start\n",
    "        start += 1  # move just past previous match\n",
    "        "
   ]
  },
  {
   "cell_type": "code",
   "execution_count": 52,
   "metadata": {},
   "outputs": [
    {
     "data": {
      "text/plain": [
       "3"
      ]
     },
     "execution_count": 52,
     "metadata": {},
     "output_type": "execute_result"
    }
   ],
   "source": [
    "read ='GTTACGT'\n",
    "read1 ='ACGTAC'\n",
    "read2 ='CGTACGA'\n",
    "read3 ='TACGAT'\n",
    "overlap(read,read2)\n",
    "#Only matches if prefix of b overlaps sufix of a"
   ]
  },
  {
   "cell_type": "code",
   "execution_count": 81,
   "metadata": {},
   "outputs": [],
   "source": [
    "def naive_overlap_map(reads, k):\n",
    "    from itertools import permutations\n",
    "    olaps = {}\n",
    "    for a, b in permutations(reads, 2):\n",
    "        olen = overlap(a, b, min_length=k)\n",
    "        if olen > 0:\n",
    "            olaps[(a, b)] = olen\n",
    "    return olaps"
   ]
  },
  {
   "cell_type": "code",
   "execution_count": 83,
   "metadata": {},
   "outputs": [
    {
     "name": "stdout",
     "output_type": "stream",
     "text": [
      "{('CGTACG', 'TACGTA'): 4, ('CGTACG', 'ACGTAC'): 3, ('CGTACG', 'GTACGA'): 5, ('CGTACG', 'TACGAT'): 4, ('TACGTA', 'CGTACG'): 4, ('TACGTA', 'ACGTAC'): 5, ('TACGTA', 'GTACGA'): 3, ('GTTCGT', 'CGTACG'): 3, ('ACGTAC', 'CGTACG'): 5, ('ACGTAC', 'TACGTA'): 3, ('ACGTAC', 'GTACGA'): 4, ('ACGTAC', 'TACGAT'): 3, ('GTACGA', 'TACGAT'): 5}\n"
     ]
    }
   ],
   "source": [
    "reads = ['CGTACG', 'TACGTA','TTTAAA', 'GTTCGT', 'ACGTAC', 'GTACGA', 'TACGAT']\n",
    "print(naive_overlap_map(reads, 3))"
   ]
  },
  {
   "cell_type": "markdown",
   "metadata": {},
   "source": [
    "### Overlap_ALL will find the overlaps only in those reads that share *kmer* of length *k*\n",
    "The advantage of this implementation is that the search for overlaps will be faster"
   ]
  },
  {
   "cell_type": "code",
   "execution_count": 84,
   "metadata": {},
   "outputs": [],
   "source": [
    "def overlapAll(reads, k):\n",
    "    from itertools import permutations\n",
    "    olaps = {}\n",
    "    kmerS = kmers(reads,k)\n",
    "    vals = list(kmerS.values())\n",
    "    lenss=[len(vals[val]) for val in range(len(vals))]\n",
    "    bla = list(enumerate(lenss))\n",
    "    newList = set()\n",
    "    for bl in range(len(bla)):\n",
    "        if bla[bl][1] > 1:\n",
    "            n = newList.update(vals[bla[bl][0]])\n",
    "\n",
    "    for (idx_a,a), (idx_b,b) in permutations(enumerate(newList),2):\n",
    "        olen = overlap(reads[a], reads[b], min_length=k)\n",
    "        if olen > 0:\n",
    "            olaps[(reads[a], reads[b])] = olen\n",
    "    \n",
    "    nodes = len(newList)\n",
    "    return olaps,nodes        "
   ]
  },
  {
   "cell_type": "code",
   "execution_count": 88,
   "metadata": {},
   "outputs": [
    {
     "data": {
      "text/plain": [
       "({('CGTACG', 'TACGTA'): 4,\n",
       "  ('CGTACG', 'GTACGA'): 5,\n",
       "  ('CGTACG', 'TACGAT'): 4,\n",
       "  ('TACGTA', 'CGTACG'): 4,\n",
       "  ('TACGTA', 'ACGTAC'): 5,\n",
       "  ('ACGTAC', 'CGTACG'): 5,\n",
       "  ('ACGTAC', 'GTACGA'): 4,\n",
       "  ('GTACGA', 'TACGAT'): 5},\n",
       " 5)"
      ]
     },
     "execution_count": 88,
     "metadata": {},
     "output_type": "execute_result"
    }
   ],
   "source": [
    "reads = ['CGTACG', 'TACGTA','TTTAAA', 'GTTCGT', 'ACGTAC', 'GTACGA', 'TACGAT']\n",
    "overlapAll(reads,4)\n"
   ]
  },
  {
   "cell_type": "code",
   "execution_count": 74,
   "metadata": {},
   "outputs": [
    {
     "data": {
      "text/plain": [
       "[(0, 1),\n",
       " (0, 4),\n",
       " (0, 5),\n",
       " (0, 6),\n",
       " (1, 0),\n",
       " (1, 4),\n",
       " (1, 5),\n",
       " (1, 6),\n",
       " (4, 0),\n",
       " (4, 1),\n",
       " (4, 5),\n",
       " (4, 6),\n",
       " (5, 0),\n",
       " (5, 1),\n",
       " (5, 4),\n",
       " (5, 6),\n",
       " (6, 0),\n",
       " (6, 1),\n",
       " (6, 4),\n",
       " (6, 5)]"
      ]
     },
     "execution_count": 74,
     "metadata": {},
     "output_type": "execute_result"
    }
   ],
   "source": [
    "reads = ['CGTACG', 'TACGTA','TTTAAA', 'GTTCGT', 'ACGTAC', 'GTACGA', 'TACGAT']\n",
    "kmers4 = kmers(reads,4)\n",
    "vals = list(kmers4.values())\n",
    "lenss=[len(vals[val]) for val in range(len(vals))]\n",
    "bla = list(enumerate(lenss))\n",
    "\n",
    "newList = set()\n",
    "newReads = []\n",
    "for bl in range(len(bla)):\n",
    "    if bla[bl][1] > 1:\n",
    "        n = newList.update(vals[bla[bl][0]])\n",
    "        \n",
    "newList\n",
    "from itertools import permutations\n",
    "list(permutations(newList,2))\n",
    "#(idx_a, a), (idex_b,b) in permutations(enumerate(newList),2)"
   ]
  },
  {
   "cell_type": "code",
   "execution_count": 77,
   "metadata": {},
   "outputs": [],
   "source": [
    "from itertools import permutations\n",
    "\n",
    "def naive_overlap_map(reads, k):\n",
    "    olaps = {}\n",
    "    for a, b in permutations(reads, 2):\n",
    "        olen = overlap(a, b, min_length=k)\n",
    "        if olen > 0:\n",
    "            olaps[(a, b)] = olen\n",
    "    return olaps"
   ]
  },
  {
   "cell_type": "code",
   "execution_count": 89,
   "metadata": {},
   "outputs": [
    {
     "ename": "AttributeError",
     "evalue": "'tuple' object has no attribute 'keys'",
     "output_type": "error",
     "traceback": [
      "\u001b[1;31m---------------------------------------------------------------------------\u001b[0m",
      "\u001b[1;31mAttributeError\u001b[0m                            Traceback (most recent call last)",
      "\u001b[1;32m<ipython-input-89-18c73a8e03d5>\u001b[0m in \u001b[0;36m<module>\u001b[1;34m\u001b[0m\n\u001b[0;32m      1\u001b[0m \u001b[0mreads\u001b[0m \u001b[1;33m=\u001b[0m \u001b[1;33m[\u001b[0m\u001b[1;34m'CGTACG'\u001b[0m\u001b[1;33m,\u001b[0m \u001b[1;34m'TACGTA'\u001b[0m\u001b[1;33m,\u001b[0m \u001b[1;34m'GTACGT'\u001b[0m\u001b[1;33m,\u001b[0m \u001b[1;34m'ACGTAC'\u001b[0m\u001b[1;33m,\u001b[0m \u001b[1;34m'GTACGA'\u001b[0m\u001b[1;33m,\u001b[0m \u001b[1;34m'TACGAT'\u001b[0m\u001b[1;33m]\u001b[0m\u001b[1;33m\u001b[0m\u001b[1;33m\u001b[0m\u001b[0m\n\u001b[0;32m      2\u001b[0m \u001b[0mqq\u001b[0m \u001b[1;33m=\u001b[0m \u001b[0moverlapAll\u001b[0m\u001b[1;33m(\u001b[0m\u001b[0mreads\u001b[0m\u001b[1;33m,\u001b[0m \u001b[1;36m4\u001b[0m\u001b[1;33m)\u001b[0m\u001b[1;33m\u001b[0m\u001b[1;33m\u001b[0m\u001b[0m\n\u001b[1;32m----> 3\u001b[1;33m \u001b[0mpp\u001b[0m \u001b[1;33m=\u001b[0m \u001b[0mlist\u001b[0m\u001b[1;33m(\u001b[0m\u001b[0mqq\u001b[0m\u001b[1;33m.\u001b[0m\u001b[0mkeys\u001b[0m\u001b[1;33m(\u001b[0m\u001b[1;33m)\u001b[0m\u001b[1;33m)\u001b[0m\u001b[1;33m\u001b[0m\u001b[1;33m\u001b[0m\u001b[0m\n\u001b[0m\u001b[0;32m      4\u001b[0m \u001b[0mnodes\u001b[0m \u001b[1;33m=\u001b[0m \u001b[0mset\u001b[0m\u001b[1;33m(\u001b[0m\u001b[1;33m)\u001b[0m\u001b[1;33m\u001b[0m\u001b[1;33m\u001b[0m\u001b[0m\n\u001b[0;32m      5\u001b[0m \u001b[1;33m[\u001b[0m\u001b[0mnodes\u001b[0m\u001b[1;33m.\u001b[0m\u001b[0mupdate\u001b[0m\u001b[1;33m(\u001b[0m\u001b[0mpp\u001b[0m\u001b[1;33m[\u001b[0m\u001b[0mp\u001b[0m\u001b[1;33m]\u001b[0m\u001b[1;33m)\u001b[0m \u001b[1;32mfor\u001b[0m \u001b[0mp\u001b[0m \u001b[1;32min\u001b[0m \u001b[0mrange\u001b[0m\u001b[1;33m(\u001b[0m\u001b[0mlen\u001b[0m\u001b[1;33m(\u001b[0m\u001b[0mpp\u001b[0m\u001b[1;33m)\u001b[0m\u001b[1;33m)\u001b[0m\u001b[1;33m]\u001b[0m\u001b[1;33m\u001b[0m\u001b[1;33m\u001b[0m\u001b[0m\n",
      "\u001b[1;31mAttributeError\u001b[0m: 'tuple' object has no attribute 'keys'"
     ]
    }
   ],
   "source": [
    "reads = ['CGTACG', 'TACGTA', 'GTACGT', 'ACGTAC', 'GTACGA', 'TACGAT']\n",
    "qq = overlapAll(reads, 4)\n",
    "pp = list(qq.keys())\n",
    "nodes = set()\n",
    "[nodes.update(pp[p]) for p in range(len(pp))]\n",
    "nodes"
   ]
  },
  {
   "cell_type": "code",
   "execution_count": 64,
   "metadata": {},
   "outputs": [],
   "source": [
    "def readFastq(filename):\n",
    "    sequences = []\n",
    "    qualities = []\n",
    "    with open(filename) as fh:\n",
    "        while True:\n",
    "            fh.readline() # skip name line\n",
    "            seq = fh.readline().rstrip() # read base sequence\n",
    "            fh.readline() # skip placeholder line\n",
    "            qual = fh.readline().rstrip() #base quality line\n",
    "            if len(seq) == 0:\n",
    "                break\n",
    "            sequences.append(seq)\n",
    "            qualities.append(qual)\n",
    "    return sequences"
   ]
  },
  {
   "cell_type": "code",
   "execution_count": 66,
   "metadata": {},
   "outputs": [],
   "source": [
    "seqs=readFastq('ERR266411_1.for_asm.fastq')"
   ]
  },
  {
   "cell_type": "code",
   "execution_count": 67,
   "metadata": {},
   "outputs": [
    {
     "data": {
      "text/plain": [
       "9960"
      ]
     },
     "execution_count": 67,
     "metadata": {},
     "output_type": "execute_result"
    }
   ],
   "source": [
    "q3, nodes = overlapAll(seqs,30)\n",
    "#print(nodes, len(q3))\n",
    "#edges= len(q3)= 904746\n",
    "nodes\n"
   ]
  },
  {
   "cell_type": "code",
   "execution_count": 90,
   "metadata": {},
   "outputs": [
    {
     "data": {
      "text/plain": [
       "9750"
      ]
     },
     "execution_count": 90,
     "metadata": {},
     "output_type": "execute_result"
    }
   ],
   "source": [
    "pp = list(q3.keys())\n",
    "nodes = set()\n",
    "[nodes.update(pp[p]) for p in range(len(pp))]\n",
    "len(nodes)"
   ]
  },
  {
   "cell_type": "code",
   "execution_count": 91,
   "metadata": {},
   "outputs": [
    {
     "data": {
      "text/plain": [
       "9960"
      ]
     },
     "execution_count": 91,
     "metadata": {},
     "output_type": "execute_result"
    }
   ],
   "source": [
    "\n",
    "def overlapAll_nodes(reads, k):\n",
    "    from itertools import permutations\n",
    "    olaps = {}\n",
    "    kmerS = kmers(reads,k)\n",
    "    vals = list(kmerS.values())\n",
    "    lenss=[len(vals[val]) for val in range(len(vals))]\n",
    "    bla = list(enumerate(lenss))\n",
    "    newList = set()\n",
    "    for bl in range(len(bla)):\n",
    "        if bla[bl][1] > 1:\n",
    "            n = newList.update(vals[bla[bl][0]])\n",
    "           \n",
    "    nodes = len(newList)    \n",
    "    return nodes    \n",
    "\n",
    "overlapAll_nodes(seqs,30)"
   ]
  },
  {
   "cell_type": "code",
   "execution_count": null,
   "metadata": {},
   "outputs": [],
   "source": []
  }
 ],
 "metadata": {
  "kernelspec": {
   "display_name": "Python 3",
   "language": "python",
   "name": "python3"
  },
  "language_info": {
   "codemirror_mode": {
    "name": "ipython",
    "version": 3
   },
   "file_extension": ".py",
   "mimetype": "text/x-python",
   "name": "python",
   "nbconvert_exporter": "python",
   "pygments_lexer": "ipython3",
   "version": "3.7.4"
  }
 },
 "nbformat": 4,
 "nbformat_minor": 4
}
