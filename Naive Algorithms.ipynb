{
 "cells": [
  {
   "cell_type": "markdown",
   "metadata": {},
   "source": [
    "# Naive algorithms for pattern searching"
   ]
  },
  {
   "cell_type": "markdown",
   "metadata": {},
   "source": [
    "1. Simple Naive algorithm\n",
    "2. Naive With reverse complement\n",
    "3. Naive With n mismatches\n",
    "4. Naive With counts"
   ]
  },
  {
   "cell_type": "markdown",
   "metadata": {},
   "source": [
    "### 1. Simple Naive exact algoritm\n",
    " *Naive algorithm* will check whether a string (**t**) follows a particular pattern (**p**) or not by sliding one character in the pattern once a match ocurred whit the text"
   ]
  },
  {
   "cell_type": "code",
   "execution_count": 2,
   "metadata": {},
   "outputs": [],
   "source": [
    "def naive(p, t):\n",
    "    occurrences = []\n",
    "    for i in range(len(t) - len(p) + 1):  # loop over alignments\n",
    "        match = True\n",
    "        for j in range(len(p)):  # loop over characters\n",
    "            if t[i+j] != p[j]:  # compare characters\n",
    "                match = False\n",
    "                break\n",
    "        if match:\n",
    "            occurrences.append(i)  # all chars matched; record\n",
    "    return occurrences"
   ]
  },
  {
   "cell_type": "markdown",
   "metadata": {},
   "source": [
    "### 2. Naive with reverse complement\n",
    "Apply naive algorithm in both strands of the DNA; forward and reverse complement"
   ]
  },
  {
   "cell_type": "code",
   "execution_count": 4,
   "metadata": {},
   "outputs": [],
   "source": [
    "def naive_w_rc(p, t):\n",
    "    occurrences = []\n",
    "    for i in range(len(t) - len(p) + 1):  # loop over alignments\n",
    "        match = True\n",
    "        for j in range(len(p)):  # loop over characters\n",
    "            if t[i+j] != p[j]:  # compare characters\n",
    "                match = False\n",
    "                break\n",
    "        if match:\n",
    "            occurrences.append(i)  # all chars matched; record\n",
    "    def reverseComplement(s):\n",
    "        complement = {'A': 'T', 'C': 'G', 'G': 'C', 'T': 'A', 'N': 'N'}\n",
    "        t = ''\n",
    "        for base in s:\n",
    "            t = complement[base] + t\n",
    "        return t\n",
    "    q = reverseComplement(p)\n",
    "    if q == p:\n",
    "        return occurrences\n",
    "    \n",
    "    tt =reverseComplement(t)\n",
    "    occurrences_rc = []\n",
    "    for i in range(len(tt) - len(q) + 1):  # loop over alignments\n",
    "        match = True\n",
    "        for j in range(len(q)):  # loop over characters\n",
    "            if tt[i+j] != p[j]:  # compare characters\n",
    "                match = False\n",
    "                break\n",
    "        if match:\n",
    "            occurrences_rc.append(i)  # all chars matched; record\n",
    "            \n",
    "            \n",
    "    return occurrences, occurrences_rc"
   ]
  },
  {
   "cell_type": "markdown",
   "metadata": {},
   "source": [
    "### 3. Naive with ***N*** number of missmatches\n",
    "In this case, we allow the algorithm to have at most *N* missmatches"
   ]
  },
  {
   "cell_type": "code",
   "execution_count": 6,
   "metadata": {},
   "outputs": [],
   "source": [
    "def naive_Nmm(p, t, n):\n",
    "    occurrences = []\n",
    "    for i in range(len(t) - len(p) + 1):  # loop over alignments\n",
    "        match = True\n",
    "        a=0    \n",
    "        for j in range(len(p)):  # loop over characters \n",
    "            if t[i+j] != p[j]:  # compare characters\n",
    "                a+=1\n",
    "                #match = False\n",
    "            if a>n:              #allows n mismatches\n",
    "                match = False\n",
    "                break\n",
    "        if match:\n",
    "            occurrences.append(i)  # all chars matched; record\n",
    "    return occurrences"
   ]
  },
  {
   "cell_type": "markdown",
   "metadata": {},
   "source": [
    "### 4. Naive with counts\n",
    "The next Naive exact algorithm gives you also the number of alignments and comparissions made "
   ]
  },
  {
   "cell_type": "code",
   "execution_count": 7,
   "metadata": {},
   "outputs": [],
   "source": [
    "def naive_with_counts(p, t):\n",
    "    occurrences = []\n",
    "    num_alignments = 0\n",
    "    num_char_comparisions = 0\n",
    "    for i in range(len(t) - len(p) + 1):  # loop over alignments\n",
    "        match = True\n",
    "        num_alignments+=1\n",
    "        for j in range(len(p)):  # loop over characters\n",
    "            num_char_comparisions+=1\n",
    "            if t[i+j] != p[j]:  # compare characters\n",
    "                match = False\n",
    "                break\n",
    "        if match:\n",
    "            occurrences.append(i)  # all chars matched; record\n",
    "    return occurrences, num_alignments, num_char_comparisions"
   ]
  },
  {
   "cell_type": "code",
   "execution_count": null,
   "metadata": {},
   "outputs": [],
   "source": []
  }
 ],
 "metadata": {
  "kernelspec": {
   "display_name": "Python 3",
   "language": "python",
   "name": "python3"
  },
  "language_info": {
   "codemirror_mode": {
    "name": "ipython",
    "version": 3
   },
   "file_extension": ".py",
   "mimetype": "text/x-python",
   "name": "python",
   "nbconvert_exporter": "python",
   "pygments_lexer": "ipython3",
   "version": "3.7.4"
  }
 },
 "nbformat": 4,
 "nbformat_minor": 4
}
