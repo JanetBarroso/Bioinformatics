{
 "cells": [
  {
   "cell_type": "markdown",
   "metadata": {},
   "source": [
    "## Given a FASTA file obtain:\n",
    "1. Number of sequences\n",
    "2. Find the longest/shortest seq\n",
    "3. Find ORFs\n",
    "4. Find Tandems"
   ]
  },
  {
   "cell_type": "raw",
   "metadata": {},
   "source": [
    "Loading data "
   ]
  },
  {
   "cell_type": "code",
   "execution_count": 1,
   "metadata": {},
   "outputs": [],
   "source": [
    "filename = 'dna2.fasta'\n",
    "#filename = 'dna.example.fasta'\n",
    "\n",
    "try:\n",
    "    f = open(filename, 'r')\n",
    "except IOError:\n",
    "    print(\"The file %s does not exist\" %filename)\n",
    "    \n",
    "seqs={} \n",
    "   \n",
    "for line in f:\n",
    "    line = line.rstrip()\n",
    "    \n",
    "    if line[0] == '>' or line.startswith('>'):\n",
    "        words = line.split()\n",
    "        name = words[0][1:]\n",
    "        seqs[name] = ''\n",
    "    else:\n",
    "        seqs[name] = seqs[name] + line\n"
   ]
  },
  {
   "cell_type": "markdown",
   "metadata": {},
   "source": [
    "### 1. Number of Sequences"
   ]
  },
  {
   "cell_type": "code",
   "execution_count": 3,
   "metadata": {},
   "outputs": [
    {
     "name": "stdout",
     "output_type": "stream",
     "text": [
      "1) There are 18 sequences in the file\n"
     ]
    }
   ],
   "source": [
    "n = len(seqs)\n",
    "print('1) There are %s sequences in the file' %n)"
   ]
  },
  {
   "cell_type": "markdown",
   "metadata": {},
   "source": [
    "### 2. Find the longest/shortes sequence"
   ]
  },
  {
   "cell_type": "code",
   "execution_count": 4,
   "metadata": {},
   "outputs": [
    {
     "name": "stdout",
     "output_type": "stream",
     "text": [
      "2a) The longest sequence has 4894 nts which id is gi|142022655|gb|EQ086233.1|255\n",
      "2b) The shortest sequence has 115 nts which id is gi|142022655|gb|EQ086233.1|346\n"
     ]
    }
   ],
   "source": [
    "items =list(seqs.items())\n",
    "#length of the sequences\n",
    "lengths = [len(seq) for seq in seqs.values()]\n",
    "a = items[lengths.index(max(lengths))][0]\n",
    "b = items[lengths.index(min(lengths))][0]\n",
    "\n",
    "print('2a) The longest sequence has %d nts which id is %s' % (max(lengths),a))\n",
    "print('2b) The shortest sequence has %d nts which id is %s' % (min(lengths),b))\n"
   ]
  },
  {
   "cell_type": "markdown",
   "metadata": {},
   "source": [
    "### 3. Finding ORFs"
   ]
  },
  {
   "cell_type": "code",
   "execution_count": 7,
   "metadata": {},
   "outputs": [],
   "source": [
    "longest_ORFs = []\n",
    "import re\n",
    "for it in range(0,len(items)): \n",
    "    frame = re.findall('.{1,3}', items[12][1][0:-1])\n",
    "    starts = [i for i,d in enumerate(frame) if d=='ATG']\n",
    "    stopcodons = ['TAA', 'TAG', 'TGA']\n",
    "    stops = []\n",
    "    for s in range(0,len(stopcodons)):\n",
    "        sto = [i for i,d in enumerate(frame) if d==stopcodons[s]]\n",
    "        stops = stops + sto\n",
    "\n",
    "    stops = sorted(stops)\n",
    "    orfs_lengths =[]\n",
    "    t = 0\n",
    "    for j in range(0,len(starts)):\n",
    "        try:\n",
    "            t = next(x for x in stops if x > starts[j])\n",
    "            L =(t-starts[j])*3 + 3\n",
    "            orfs_lengths.append(L)\n",
    "        except Exception:\n",
    "            break \n",
    "                       \n",
    "longest_ORFs.append(max(orfs_lengths))\n",
    "        \n",
    "\n",
    "ID = items[longest_ORFs.index(max(longest_ORFs))][0] "
   ]
  },
  {
   "cell_type": "markdown",
   "metadata": {},
   "source": [
    "For a given sequence identifier, what is the longest ORF contained in the sequence represented by that identifier?"
   ]
  },
  {
   "cell_type": "code",
   "execution_count": 8,
   "metadata": {},
   "outputs": [],
   "source": [
    "def lenthelongest(id):\n",
    "    i=[i for i, (gen, seq) in enumerate(items) if gen==id]\n",
    "    return longest_ORFs[i[0]]"
   ]
  },
  {
   "cell_type": "markdown",
   "metadata": {},
   "source": [
    "### 4. Finding tandems"
   ]
  },
  {
   "cell_type": "code",
   "execution_count": null,
   "metadata": {},
   "outputs": [],
   "source": [
    "nts =['A','T','C','G']\n",
    "from itertools import product\n",
    "Lista = list(product(nts, repeat = 6))\n",
    "triplets =[''.join(i) for i in Lista]\n",
    "repeticions = {}\n",
    "for tri in triplets:\n",
    "    reps=[]\n",
    "    for j in range(0,len(items)):\n",
    "        rep = [ m.span() for m in re.finditer(tri, items[j][1])]\n",
    "        reps = reps+rep\n",
    "    \n",
    "    repeticions.update({tri:reps})\n",
    "    \n",
    "bla = [len(rep) for rep in repeticions.values()] \n",
    "bla.index(max(bla))\n",
    "list(repeticions.keys())[bla.index(max(bla))]"
   ]
  }
 ],
 "metadata": {
  "kernelspec": {
   "display_name": "Python 3",
   "language": "python",
   "name": "python3"
  },
  "language_info": {
   "codemirror_mode": {
    "name": "ipython",
    "version": 3
   },
   "file_extension": ".py",
   "mimetype": "text/x-python",
   "name": "python",
   "nbconvert_exporter": "python",
   "pygments_lexer": "ipython3",
   "version": "3.7.4"
  }
 },
 "nbformat": 4,
 "nbformat_minor": 4
}
